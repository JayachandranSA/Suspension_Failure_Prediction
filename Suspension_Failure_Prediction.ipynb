{
  "nbformat": 4,
  "nbformat_minor": 0,
  "metadata": {
    "colab": {
      "provenance": []
    },
    "kernelspec": {
      "name": "python3",
      "display_name": "Python 3"
    },
    "language_info": {
      "name": "python"
    }
  },
  "cells": [
    {
      "cell_type": "markdown",
      "source": [
        "#Failure prediction on Suspenion Parts\n",
        "**Problem**\n",
        "\n",
        "The Lifespan and a failure of suspension components based on varying load conditions, terrain and material properties.\n",
        "These failures may leads to downtime, increased maintenance cost and other safety issues.\n",
        "\n",
        "**Solution**\n",
        "\n",
        "By Building a predictive model, that uses real world vehicle data such as different load condition , road type, material properties , past failure data and to predict suspension failures."
      ],
      "metadata": {
        "id": "1Rl3Rijtx5N2"
      }
    },
    {
      "cell_type": "code",
      "execution_count": null,
      "metadata": {
        "id": "nLwGlZxSxSjv"
      },
      "outputs": [],
      "source": [
        "#Importing neccassary data\n",
        "import numpy as np , pandas as pd, matplotlib.pyplot as plt\n",
        "import seaborn as sns"
      ]
    },
    {
      "cell_type": "code",
      "source": [
        "#Generating a Synthetic data\n",
        "np.random.seed(42)\n",
        "num_samples=100000"
      ],
      "metadata": {
        "id": "h8NcCF9n0GZy"
      },
      "execution_count": null,
      "outputs": []
    },
    {
      "cell_type": "markdown",
      "source": [
        "##Data Collection"
      ],
      "metadata": {
        "id": "XlhYx5DhiCa2"
      }
    },
    {
      "cell_type": "code",
      "source": [
        "data = {\n",
        "    \"vehicle_load_tons\": np.random.uniform(5, 60, num_samples), #vehicle tonnage from 5T to 60T\n",
        "    \"road_type\": np.random.choice([0, 1, 2], num_samples),  # Encoded: highway=0, off-road=1, mixed=2\n",
        "    \"shock_absorber_health\": np.random.uniform(20, 100, num_samples),# Here the health is considered between 20% to 100%\n",
        "    \"suspension_travel_mm\": np.random.uniform(30, 100, num_samples), # Shock absorber compression and Extension length\n",
        "    \"vehicle_age_years\": np.round(np.random.uniform(0, 15, num_samples),2)\n",
        "}"
      ],
      "metadata": {
        "id": "sVrTetl0aHdf"
      },
      "execution_count": null,
      "outputs": []
    },
    {
      "cell_type": "code",
      "source": [
        "# Factors affecting Suspension Components\n",
        "#Vehicle Load = Max Load (55T) and considered 40% of load will impact on suspension failures\n",
        "#Road_type =30% of road condition will impact on suspension failures\n",
        "#Shock absorber health = 30% of shock absorber health will impact on suspension failures\n",
        "#Suspension travel and Vehicle age also causes suspension failures by 20% and 30% respectively."
      ],
      "metadata": {
        "id": "QgtGnRJEmyhb"
      },
      "execution_count": null,
      "outputs": []
    },
    {
      "cell_type": "code",
      "source": [
        "failure_prob = (\n",
        "    (data[\"vehicle_load_tons\"] / 55) * 0.4 +\n",
        "    (data[\"road_type\"] / 2) * 0.3 +\n",
        "    ((100 - np.array(data[\"shock_absorber_health\"])) / 100) * 0.3 +\n",
        "    (data[\"suspension_travel_mm\"] / 300) * 0.2 +\n",
        "    (data[\"vehicle_age_years\"] / 15) * 0.3\n",
        ")"
      ],
      "metadata": {
        "id": "GY5p23Cyblem"
      },
      "execution_count": null,
      "outputs": []
    },
    {
      "cell_type": "code",
      "source": [
        "failure_prob = np.clip(failure_prob, 0, 1)\n",
        "data[\"failure_occurred\"] = [1 if np.random.rand() < prob else 0 for prob in failure_prob] #If random number less than Probability than the component will be a failed one."
      ],
      "metadata": {
        "id": "rL3hkqHkqA_Q"
      },
      "execution_count": null,
      "outputs": []
    },
    {
      "cell_type": "code",
      "source": [
        "df=pd.DataFrame(data)\n",
        "df.head()"
      ],
      "metadata": {
        "colab": {
          "base_uri": "https://localhost:8080/",
          "height": 206
        },
        "id": "TYtou9vlx6oJ",
        "outputId": "424aa1f0-a884-40e4-def8-59e42e397fd4"
      },
      "execution_count": null,
      "outputs": [
        {
          "output_type": "execute_result",
          "data": {
            "text/plain": [
              "   vehicle_load_tons  road_type  shock_absorber_health  suspension_travel_mm  \\\n",
              "0          25.599707          1              83.976160             31.494545   \n",
              "1          57.289287          1              88.968104             62.162796   \n",
              "2          45.259667          2              88.439415             57.934144   \n",
              "3          37.926217          0              90.088281             85.674940   \n",
              "4          13.581025          0              96.237882             41.715279   \n",
              "\n",
              "   vehicle_age_years  failure_occurred  \n",
              "0               8.74                 0  \n",
              "1              13.95                 1  \n",
              "2              12.02                 1  \n",
              "3              13.56                 1  \n",
              "4               7.12                 1  "
            ],
            "text/html": [
              "\n",
              "  <div id=\"df-4c5783d7-6ba3-4923-8582-55cc8d567ea1\" class=\"colab-df-container\">\n",
              "    <div>\n",
              "<style scoped>\n",
              "    .dataframe tbody tr th:only-of-type {\n",
              "        vertical-align: middle;\n",
              "    }\n",
              "\n",
              "    .dataframe tbody tr th {\n",
              "        vertical-align: top;\n",
              "    }\n",
              "\n",
              "    .dataframe thead th {\n",
              "        text-align: right;\n",
              "    }\n",
              "</style>\n",
              "<table border=\"1\" class=\"dataframe\">\n",
              "  <thead>\n",
              "    <tr style=\"text-align: right;\">\n",
              "      <th></th>\n",
              "      <th>vehicle_load_tons</th>\n",
              "      <th>road_type</th>\n",
              "      <th>shock_absorber_health</th>\n",
              "      <th>suspension_travel_mm</th>\n",
              "      <th>vehicle_age_years</th>\n",
              "      <th>failure_occurred</th>\n",
              "    </tr>\n",
              "  </thead>\n",
              "  <tbody>\n",
              "    <tr>\n",
              "      <th>0</th>\n",
              "      <td>25.599707</td>\n",
              "      <td>1</td>\n",
              "      <td>83.976160</td>\n",
              "      <td>31.494545</td>\n",
              "      <td>8.74</td>\n",
              "      <td>0</td>\n",
              "    </tr>\n",
              "    <tr>\n",
              "      <th>1</th>\n",
              "      <td>57.289287</td>\n",
              "      <td>1</td>\n",
              "      <td>88.968104</td>\n",
              "      <td>62.162796</td>\n",
              "      <td>13.95</td>\n",
              "      <td>1</td>\n",
              "    </tr>\n",
              "    <tr>\n",
              "      <th>2</th>\n",
              "      <td>45.259667</td>\n",
              "      <td>2</td>\n",
              "      <td>88.439415</td>\n",
              "      <td>57.934144</td>\n",
              "      <td>12.02</td>\n",
              "      <td>1</td>\n",
              "    </tr>\n",
              "    <tr>\n",
              "      <th>3</th>\n",
              "      <td>37.926217</td>\n",
              "      <td>0</td>\n",
              "      <td>90.088281</td>\n",
              "      <td>85.674940</td>\n",
              "      <td>13.56</td>\n",
              "      <td>1</td>\n",
              "    </tr>\n",
              "    <tr>\n",
              "      <th>4</th>\n",
              "      <td>13.581025</td>\n",
              "      <td>0</td>\n",
              "      <td>96.237882</td>\n",
              "      <td>41.715279</td>\n",
              "      <td>7.12</td>\n",
              "      <td>1</td>\n",
              "    </tr>\n",
              "  </tbody>\n",
              "</table>\n",
              "</div>\n",
              "    <div class=\"colab-df-buttons\">\n",
              "\n",
              "  <div class=\"colab-df-container\">\n",
              "    <button class=\"colab-df-convert\" onclick=\"convertToInteractive('df-4c5783d7-6ba3-4923-8582-55cc8d567ea1')\"\n",
              "            title=\"Convert this dataframe to an interactive table.\"\n",
              "            style=\"display:none;\">\n",
              "\n",
              "  <svg xmlns=\"http://www.w3.org/2000/svg\" height=\"24px\" viewBox=\"0 -960 960 960\">\n",
              "    <path d=\"M120-120v-720h720v720H120Zm60-500h600v-160H180v160Zm220 220h160v-160H400v160Zm0 220h160v-160H400v160ZM180-400h160v-160H180v160Zm440 0h160v-160H620v160ZM180-180h160v-160H180v160Zm440 0h160v-160H620v160Z\"/>\n",
              "  </svg>\n",
              "    </button>\n",
              "\n",
              "  <style>\n",
              "    .colab-df-container {\n",
              "      display:flex;\n",
              "      gap: 12px;\n",
              "    }\n",
              "\n",
              "    .colab-df-convert {\n",
              "      background-color: #E8F0FE;\n",
              "      border: none;\n",
              "      border-radius: 50%;\n",
              "      cursor: pointer;\n",
              "      display: none;\n",
              "      fill: #1967D2;\n",
              "      height: 32px;\n",
              "      padding: 0 0 0 0;\n",
              "      width: 32px;\n",
              "    }\n",
              "\n",
              "    .colab-df-convert:hover {\n",
              "      background-color: #E2EBFA;\n",
              "      box-shadow: 0px 1px 2px rgba(60, 64, 67, 0.3), 0px 1px 3px 1px rgba(60, 64, 67, 0.15);\n",
              "      fill: #174EA6;\n",
              "    }\n",
              "\n",
              "    .colab-df-buttons div {\n",
              "      margin-bottom: 4px;\n",
              "    }\n",
              "\n",
              "    [theme=dark] .colab-df-convert {\n",
              "      background-color: #3B4455;\n",
              "      fill: #D2E3FC;\n",
              "    }\n",
              "\n",
              "    [theme=dark] .colab-df-convert:hover {\n",
              "      background-color: #434B5C;\n",
              "      box-shadow: 0px 1px 3px 1px rgba(0, 0, 0, 0.15);\n",
              "      filter: drop-shadow(0px 1px 2px rgba(0, 0, 0, 0.3));\n",
              "      fill: #FFFFFF;\n",
              "    }\n",
              "  </style>\n",
              "\n",
              "    <script>\n",
              "      const buttonEl =\n",
              "        document.querySelector('#df-4c5783d7-6ba3-4923-8582-55cc8d567ea1 button.colab-df-convert');\n",
              "      buttonEl.style.display =\n",
              "        google.colab.kernel.accessAllowed ? 'block' : 'none';\n",
              "\n",
              "      async function convertToInteractive(key) {\n",
              "        const element = document.querySelector('#df-4c5783d7-6ba3-4923-8582-55cc8d567ea1');\n",
              "        const dataTable =\n",
              "          await google.colab.kernel.invokeFunction('convertToInteractive',\n",
              "                                                    [key], {});\n",
              "        if (!dataTable) return;\n",
              "\n",
              "        const docLinkHtml = 'Like what you see? Visit the ' +\n",
              "          '<a target=\"_blank\" href=https://colab.research.google.com/notebooks/data_table.ipynb>data table notebook</a>'\n",
              "          + ' to learn more about interactive tables.';\n",
              "        element.innerHTML = '';\n",
              "        dataTable['output_type'] = 'display_data';\n",
              "        await google.colab.output.renderOutput(dataTable, element);\n",
              "        const docLink = document.createElement('div');\n",
              "        docLink.innerHTML = docLinkHtml;\n",
              "        element.appendChild(docLink);\n",
              "      }\n",
              "    </script>\n",
              "  </div>\n",
              "\n",
              "\n",
              "<div id=\"df-ea4e44d8-f1fb-493e-b516-97ba7d452ca7\">\n",
              "  <button class=\"colab-df-quickchart\" onclick=\"quickchart('df-ea4e44d8-f1fb-493e-b516-97ba7d452ca7')\"\n",
              "            title=\"Suggest charts\"\n",
              "            style=\"display:none;\">\n",
              "\n",
              "<svg xmlns=\"http://www.w3.org/2000/svg\" height=\"24px\"viewBox=\"0 0 24 24\"\n",
              "     width=\"24px\">\n",
              "    <g>\n",
              "        <path d=\"M19 3H5c-1.1 0-2 .9-2 2v14c0 1.1.9 2 2 2h14c1.1 0 2-.9 2-2V5c0-1.1-.9-2-2-2zM9 17H7v-7h2v7zm4 0h-2V7h2v10zm4 0h-2v-4h2v4z\"/>\n",
              "    </g>\n",
              "</svg>\n",
              "  </button>\n",
              "\n",
              "<style>\n",
              "  .colab-df-quickchart {\n",
              "      --bg-color: #E8F0FE;\n",
              "      --fill-color: #1967D2;\n",
              "      --hover-bg-color: #E2EBFA;\n",
              "      --hover-fill-color: #174EA6;\n",
              "      --disabled-fill-color: #AAA;\n",
              "      --disabled-bg-color: #DDD;\n",
              "  }\n",
              "\n",
              "  [theme=dark] .colab-df-quickchart {\n",
              "      --bg-color: #3B4455;\n",
              "      --fill-color: #D2E3FC;\n",
              "      --hover-bg-color: #434B5C;\n",
              "      --hover-fill-color: #FFFFFF;\n",
              "      --disabled-bg-color: #3B4455;\n",
              "      --disabled-fill-color: #666;\n",
              "  }\n",
              "\n",
              "  .colab-df-quickchart {\n",
              "    background-color: var(--bg-color);\n",
              "    border: none;\n",
              "    border-radius: 50%;\n",
              "    cursor: pointer;\n",
              "    display: none;\n",
              "    fill: var(--fill-color);\n",
              "    height: 32px;\n",
              "    padding: 0;\n",
              "    width: 32px;\n",
              "  }\n",
              "\n",
              "  .colab-df-quickchart:hover {\n",
              "    background-color: var(--hover-bg-color);\n",
              "    box-shadow: 0 1px 2px rgba(60, 64, 67, 0.3), 0 1px 3px 1px rgba(60, 64, 67, 0.15);\n",
              "    fill: var(--button-hover-fill-color);\n",
              "  }\n",
              "\n",
              "  .colab-df-quickchart-complete:disabled,\n",
              "  .colab-df-quickchart-complete:disabled:hover {\n",
              "    background-color: var(--disabled-bg-color);\n",
              "    fill: var(--disabled-fill-color);\n",
              "    box-shadow: none;\n",
              "  }\n",
              "\n",
              "  .colab-df-spinner {\n",
              "    border: 2px solid var(--fill-color);\n",
              "    border-color: transparent;\n",
              "    border-bottom-color: var(--fill-color);\n",
              "    animation:\n",
              "      spin 1s steps(1) infinite;\n",
              "  }\n",
              "\n",
              "  @keyframes spin {\n",
              "    0% {\n",
              "      border-color: transparent;\n",
              "      border-bottom-color: var(--fill-color);\n",
              "      border-left-color: var(--fill-color);\n",
              "    }\n",
              "    20% {\n",
              "      border-color: transparent;\n",
              "      border-left-color: var(--fill-color);\n",
              "      border-top-color: var(--fill-color);\n",
              "    }\n",
              "    30% {\n",
              "      border-color: transparent;\n",
              "      border-left-color: var(--fill-color);\n",
              "      border-top-color: var(--fill-color);\n",
              "      border-right-color: var(--fill-color);\n",
              "    }\n",
              "    40% {\n",
              "      border-color: transparent;\n",
              "      border-right-color: var(--fill-color);\n",
              "      border-top-color: var(--fill-color);\n",
              "    }\n",
              "    60% {\n",
              "      border-color: transparent;\n",
              "      border-right-color: var(--fill-color);\n",
              "    }\n",
              "    80% {\n",
              "      border-color: transparent;\n",
              "      border-right-color: var(--fill-color);\n",
              "      border-bottom-color: var(--fill-color);\n",
              "    }\n",
              "    90% {\n",
              "      border-color: transparent;\n",
              "      border-bottom-color: var(--fill-color);\n",
              "    }\n",
              "  }\n",
              "</style>\n",
              "\n",
              "  <script>\n",
              "    async function quickchart(key) {\n",
              "      const quickchartButtonEl =\n",
              "        document.querySelector('#' + key + ' button');\n",
              "      quickchartButtonEl.disabled = true;  // To prevent multiple clicks.\n",
              "      quickchartButtonEl.classList.add('colab-df-spinner');\n",
              "      try {\n",
              "        const charts = await google.colab.kernel.invokeFunction(\n",
              "            'suggestCharts', [key], {});\n",
              "      } catch (error) {\n",
              "        console.error('Error during call to suggestCharts:', error);\n",
              "      }\n",
              "      quickchartButtonEl.classList.remove('colab-df-spinner');\n",
              "      quickchartButtonEl.classList.add('colab-df-quickchart-complete');\n",
              "    }\n",
              "    (() => {\n",
              "      let quickchartButtonEl =\n",
              "        document.querySelector('#df-ea4e44d8-f1fb-493e-b516-97ba7d452ca7 button');\n",
              "      quickchartButtonEl.style.display =\n",
              "        google.colab.kernel.accessAllowed ? 'block' : 'none';\n",
              "    })();\n",
              "  </script>\n",
              "</div>\n",
              "\n",
              "    </div>\n",
              "  </div>\n"
            ],
            "application/vnd.google.colaboratory.intrinsic+json": {
              "type": "dataframe",
              "variable_name": "df",
              "summary": "{\n  \"name\": \"df\",\n  \"rows\": 100000,\n  \"fields\": [\n    {\n      \"column\": \"vehicle_load_tons\",\n      \"properties\": {\n        \"dtype\": \"number\",\n        \"std\": 15.858779585573002,\n        \"min\": 5.000304517165589,\n        \"max\": 59.99956232666313,\n        \"num_unique_values\": 100000,\n        \"samples\": [\n          18.111179176133227,\n          8.475665026198586,\n          47.5414661858198\n        ],\n        \"semantic_type\": \"\",\n        \"description\": \"\"\n      }\n    },\n    {\n      \"column\": \"road_type\",\n      \"properties\": {\n        \"dtype\": \"number\",\n        \"std\": 0,\n        \"min\": 0,\n        \"max\": 2,\n        \"num_unique_values\": 3,\n        \"samples\": [\n          1,\n          2,\n          0\n        ],\n        \"semantic_type\": \"\",\n        \"description\": \"\"\n      }\n    },\n    {\n      \"column\": \"shock_absorber_health\",\n      \"properties\": {\n        \"dtype\": \"number\",\n        \"std\": 23.118629515008486,\n        \"min\": 20.00167123335021,\n        \"max\": 99.99767977644899,\n        \"num_unique_values\": 100000,\n        \"samples\": [\n          28.99397227090794,\n          69.93840142538465,\n          84.87675403448566\n        ],\n        \"semantic_type\": \"\",\n        \"description\": \"\"\n      }\n    },\n    {\n      \"column\": \"suspension_travel_mm\",\n      \"properties\": {\n        \"dtype\": \"number\",\n        \"std\": 20.22680162214187,\n        \"min\": 30.000627590485383,\n        \"max\": 99.99995198461404,\n        \"num_unique_values\": 100000,\n        \"samples\": [\n          83.4258975054583,\n          46.666811396344414,\n          32.092474641371055\n        ],\n        \"semantic_type\": \"\",\n        \"description\": \"\"\n      }\n    },\n    {\n      \"column\": \"vehicle_age_years\",\n      \"properties\": {\n        \"dtype\": \"number\",\n        \"std\": 4.329506841231914,\n        \"min\": 0.0,\n        \"max\": 15.0,\n        \"num_unique_values\": 1501,\n        \"samples\": [\n          11.85,\n          12.79,\n          9.0\n        ],\n        \"semantic_type\": \"\",\n        \"description\": \"\"\n      }\n    },\n    {\n      \"column\": \"failure_occurred\",\n      \"properties\": {\n        \"dtype\": \"number\",\n        \"std\": 0,\n        \"min\": 0,\n        \"max\": 1,\n        \"num_unique_values\": 2,\n        \"samples\": [\n          1,\n          0\n        ],\n        \"semantic_type\": \"\",\n        \"description\": \"\"\n      }\n    }\n  ]\n}"
            }
          },
          "metadata": {},
          "execution_count": 26
        }
      ]
    },
    {
      "cell_type": "markdown",
      "source": [
        "##Exploratory Data Analysis"
      ],
      "metadata": {
        "id": "_5aXDiDcw0nY"
      }
    },
    {
      "cell_type": "code",
      "source": [
        "df.info()"
      ],
      "metadata": {
        "colab": {
          "base_uri": "https://localhost:8080/"
        },
        "id": "ixPZAICSwzft",
        "outputId": "e08b803e-dcc1-433c-b157-3331810f9dcf"
      },
      "execution_count": null,
      "outputs": [
        {
          "output_type": "stream",
          "name": "stdout",
          "text": [
            "<class 'pandas.core.frame.DataFrame'>\n",
            "RangeIndex: 100000 entries, 0 to 99999\n",
            "Data columns (total 6 columns):\n",
            " #   Column                 Non-Null Count   Dtype  \n",
            "---  ------                 --------------   -----  \n",
            " 0   vehicle_load_tons      100000 non-null  float64\n",
            " 1   road_type              100000 non-null  int64  \n",
            " 2   shock_absorber_health  100000 non-null  float64\n",
            " 3   suspension_travel_mm   100000 non-null  float64\n",
            " 4   vehicle_age_years      100000 non-null  float64\n",
            " 5   failure_occurred       100000 non-null  int64  \n",
            "dtypes: float64(4), int64(2)\n",
            "memory usage: 4.6 MB\n"
          ]
        }
      ]
    },
    {
      "cell_type": "code",
      "source": [
        "df.describe()"
      ],
      "metadata": {
        "colab": {
          "base_uri": "https://localhost:8080/",
          "height": 300
        },
        "id": "mzVLa-fZws7r",
        "outputId": "9a5939ae-36a6-485b-82e6-e02f6ac2efbb"
      },
      "execution_count": null,
      "outputs": [
        {
          "output_type": "execute_result",
          "data": {
            "text/plain": [
              "       vehicle_load_tons      road_type  shock_absorber_health  \\\n",
              "count      100000.000000  100000.000000          100000.000000   \n",
              "mean           32.471854       0.998540              60.044799   \n",
              "std            15.858780       0.814484              23.118630   \n",
              "min             5.000305       0.000000              20.001671   \n",
              "25%            18.725032       0.000000              39.962772   \n",
              "50%            32.534638       1.000000              60.109339   \n",
              "75%            46.223255       2.000000              80.055999   \n",
              "max            59.999562       2.000000              99.997680   \n",
              "\n",
              "       suspension_travel_mm  vehicle_age_years  failure_occurred  \n",
              "count         100000.000000      100000.000000     100000.000000  \n",
              "mean              64.894423           7.504610          0.693610  \n",
              "std               20.226802           4.329507          0.460996  \n",
              "min               30.000628           0.000000          0.000000  \n",
              "25%               47.326244           3.740000          0.000000  \n",
              "50%               64.904367           7.510000          1.000000  \n",
              "75%               82.383008          11.260000          1.000000  \n",
              "max               99.999952          15.000000          1.000000  "
            ],
            "text/html": [
              "\n",
              "  <div id=\"df-5574344e-09dc-4e35-9bee-5494212a5050\" class=\"colab-df-container\">\n",
              "    <div>\n",
              "<style scoped>\n",
              "    .dataframe tbody tr th:only-of-type {\n",
              "        vertical-align: middle;\n",
              "    }\n",
              "\n",
              "    .dataframe tbody tr th {\n",
              "        vertical-align: top;\n",
              "    }\n",
              "\n",
              "    .dataframe thead th {\n",
              "        text-align: right;\n",
              "    }\n",
              "</style>\n",
              "<table border=\"1\" class=\"dataframe\">\n",
              "  <thead>\n",
              "    <tr style=\"text-align: right;\">\n",
              "      <th></th>\n",
              "      <th>vehicle_load_tons</th>\n",
              "      <th>road_type</th>\n",
              "      <th>shock_absorber_health</th>\n",
              "      <th>suspension_travel_mm</th>\n",
              "      <th>vehicle_age_years</th>\n",
              "      <th>failure_occurred</th>\n",
              "    </tr>\n",
              "  </thead>\n",
              "  <tbody>\n",
              "    <tr>\n",
              "      <th>count</th>\n",
              "      <td>100000.000000</td>\n",
              "      <td>100000.000000</td>\n",
              "      <td>100000.000000</td>\n",
              "      <td>100000.000000</td>\n",
              "      <td>100000.000000</td>\n",
              "      <td>100000.000000</td>\n",
              "    </tr>\n",
              "    <tr>\n",
              "      <th>mean</th>\n",
              "      <td>32.471854</td>\n",
              "      <td>0.998540</td>\n",
              "      <td>60.044799</td>\n",
              "      <td>64.894423</td>\n",
              "      <td>7.504610</td>\n",
              "      <td>0.693610</td>\n",
              "    </tr>\n",
              "    <tr>\n",
              "      <th>std</th>\n",
              "      <td>15.858780</td>\n",
              "      <td>0.814484</td>\n",
              "      <td>23.118630</td>\n",
              "      <td>20.226802</td>\n",
              "      <td>4.329507</td>\n",
              "      <td>0.460996</td>\n",
              "    </tr>\n",
              "    <tr>\n",
              "      <th>min</th>\n",
              "      <td>5.000305</td>\n",
              "      <td>0.000000</td>\n",
              "      <td>20.001671</td>\n",
              "      <td>30.000628</td>\n",
              "      <td>0.000000</td>\n",
              "      <td>0.000000</td>\n",
              "    </tr>\n",
              "    <tr>\n",
              "      <th>25%</th>\n",
              "      <td>18.725032</td>\n",
              "      <td>0.000000</td>\n",
              "      <td>39.962772</td>\n",
              "      <td>47.326244</td>\n",
              "      <td>3.740000</td>\n",
              "      <td>0.000000</td>\n",
              "    </tr>\n",
              "    <tr>\n",
              "      <th>50%</th>\n",
              "      <td>32.534638</td>\n",
              "      <td>1.000000</td>\n",
              "      <td>60.109339</td>\n",
              "      <td>64.904367</td>\n",
              "      <td>7.510000</td>\n",
              "      <td>1.000000</td>\n",
              "    </tr>\n",
              "    <tr>\n",
              "      <th>75%</th>\n",
              "      <td>46.223255</td>\n",
              "      <td>2.000000</td>\n",
              "      <td>80.055999</td>\n",
              "      <td>82.383008</td>\n",
              "      <td>11.260000</td>\n",
              "      <td>1.000000</td>\n",
              "    </tr>\n",
              "    <tr>\n",
              "      <th>max</th>\n",
              "      <td>59.999562</td>\n",
              "      <td>2.000000</td>\n",
              "      <td>99.997680</td>\n",
              "      <td>99.999952</td>\n",
              "      <td>15.000000</td>\n",
              "      <td>1.000000</td>\n",
              "    </tr>\n",
              "  </tbody>\n",
              "</table>\n",
              "</div>\n",
              "    <div class=\"colab-df-buttons\">\n",
              "\n",
              "  <div class=\"colab-df-container\">\n",
              "    <button class=\"colab-df-convert\" onclick=\"convertToInteractive('df-5574344e-09dc-4e35-9bee-5494212a5050')\"\n",
              "            title=\"Convert this dataframe to an interactive table.\"\n",
              "            style=\"display:none;\">\n",
              "\n",
              "  <svg xmlns=\"http://www.w3.org/2000/svg\" height=\"24px\" viewBox=\"0 -960 960 960\">\n",
              "    <path d=\"M120-120v-720h720v720H120Zm60-500h600v-160H180v160Zm220 220h160v-160H400v160Zm0 220h160v-160H400v160ZM180-400h160v-160H180v160Zm440 0h160v-160H620v160ZM180-180h160v-160H180v160Zm440 0h160v-160H620v160Z\"/>\n",
              "  </svg>\n",
              "    </button>\n",
              "\n",
              "  <style>\n",
              "    .colab-df-container {\n",
              "      display:flex;\n",
              "      gap: 12px;\n",
              "    }\n",
              "\n",
              "    .colab-df-convert {\n",
              "      background-color: #E8F0FE;\n",
              "      border: none;\n",
              "      border-radius: 50%;\n",
              "      cursor: pointer;\n",
              "      display: none;\n",
              "      fill: #1967D2;\n",
              "      height: 32px;\n",
              "      padding: 0 0 0 0;\n",
              "      width: 32px;\n",
              "    }\n",
              "\n",
              "    .colab-df-convert:hover {\n",
              "      background-color: #E2EBFA;\n",
              "      box-shadow: 0px 1px 2px rgba(60, 64, 67, 0.3), 0px 1px 3px 1px rgba(60, 64, 67, 0.15);\n",
              "      fill: #174EA6;\n",
              "    }\n",
              "\n",
              "    .colab-df-buttons div {\n",
              "      margin-bottom: 4px;\n",
              "    }\n",
              "\n",
              "    [theme=dark] .colab-df-convert {\n",
              "      background-color: #3B4455;\n",
              "      fill: #D2E3FC;\n",
              "    }\n",
              "\n",
              "    [theme=dark] .colab-df-convert:hover {\n",
              "      background-color: #434B5C;\n",
              "      box-shadow: 0px 1px 3px 1px rgba(0, 0, 0, 0.15);\n",
              "      filter: drop-shadow(0px 1px 2px rgba(0, 0, 0, 0.3));\n",
              "      fill: #FFFFFF;\n",
              "    }\n",
              "  </style>\n",
              "\n",
              "    <script>\n",
              "      const buttonEl =\n",
              "        document.querySelector('#df-5574344e-09dc-4e35-9bee-5494212a5050 button.colab-df-convert');\n",
              "      buttonEl.style.display =\n",
              "        google.colab.kernel.accessAllowed ? 'block' : 'none';\n",
              "\n",
              "      async function convertToInteractive(key) {\n",
              "        const element = document.querySelector('#df-5574344e-09dc-4e35-9bee-5494212a5050');\n",
              "        const dataTable =\n",
              "          await google.colab.kernel.invokeFunction('convertToInteractive',\n",
              "                                                    [key], {});\n",
              "        if (!dataTable) return;\n",
              "\n",
              "        const docLinkHtml = 'Like what you see? Visit the ' +\n",
              "          '<a target=\"_blank\" href=https://colab.research.google.com/notebooks/data_table.ipynb>data table notebook</a>'\n",
              "          + ' to learn more about interactive tables.';\n",
              "        element.innerHTML = '';\n",
              "        dataTable['output_type'] = 'display_data';\n",
              "        await google.colab.output.renderOutput(dataTable, element);\n",
              "        const docLink = document.createElement('div');\n",
              "        docLink.innerHTML = docLinkHtml;\n",
              "        element.appendChild(docLink);\n",
              "      }\n",
              "    </script>\n",
              "  </div>\n",
              "\n",
              "\n",
              "<div id=\"df-671f1957-6857-4387-9210-8bb9eb34ac25\">\n",
              "  <button class=\"colab-df-quickchart\" onclick=\"quickchart('df-671f1957-6857-4387-9210-8bb9eb34ac25')\"\n",
              "            title=\"Suggest charts\"\n",
              "            style=\"display:none;\">\n",
              "\n",
              "<svg xmlns=\"http://www.w3.org/2000/svg\" height=\"24px\"viewBox=\"0 0 24 24\"\n",
              "     width=\"24px\">\n",
              "    <g>\n",
              "        <path d=\"M19 3H5c-1.1 0-2 .9-2 2v14c0 1.1.9 2 2 2h14c1.1 0 2-.9 2-2V5c0-1.1-.9-2-2-2zM9 17H7v-7h2v7zm4 0h-2V7h2v10zm4 0h-2v-4h2v4z\"/>\n",
              "    </g>\n",
              "</svg>\n",
              "  </button>\n",
              "\n",
              "<style>\n",
              "  .colab-df-quickchart {\n",
              "      --bg-color: #E8F0FE;\n",
              "      --fill-color: #1967D2;\n",
              "      --hover-bg-color: #E2EBFA;\n",
              "      --hover-fill-color: #174EA6;\n",
              "      --disabled-fill-color: #AAA;\n",
              "      --disabled-bg-color: #DDD;\n",
              "  }\n",
              "\n",
              "  [theme=dark] .colab-df-quickchart {\n",
              "      --bg-color: #3B4455;\n",
              "      --fill-color: #D2E3FC;\n",
              "      --hover-bg-color: #434B5C;\n",
              "      --hover-fill-color: #FFFFFF;\n",
              "      --disabled-bg-color: #3B4455;\n",
              "      --disabled-fill-color: #666;\n",
              "  }\n",
              "\n",
              "  .colab-df-quickchart {\n",
              "    background-color: var(--bg-color);\n",
              "    border: none;\n",
              "    border-radius: 50%;\n",
              "    cursor: pointer;\n",
              "    display: none;\n",
              "    fill: var(--fill-color);\n",
              "    height: 32px;\n",
              "    padding: 0;\n",
              "    width: 32px;\n",
              "  }\n",
              "\n",
              "  .colab-df-quickchart:hover {\n",
              "    background-color: var(--hover-bg-color);\n",
              "    box-shadow: 0 1px 2px rgba(60, 64, 67, 0.3), 0 1px 3px 1px rgba(60, 64, 67, 0.15);\n",
              "    fill: var(--button-hover-fill-color);\n",
              "  }\n",
              "\n",
              "  .colab-df-quickchart-complete:disabled,\n",
              "  .colab-df-quickchart-complete:disabled:hover {\n",
              "    background-color: var(--disabled-bg-color);\n",
              "    fill: var(--disabled-fill-color);\n",
              "    box-shadow: none;\n",
              "  }\n",
              "\n",
              "  .colab-df-spinner {\n",
              "    border: 2px solid var(--fill-color);\n",
              "    border-color: transparent;\n",
              "    border-bottom-color: var(--fill-color);\n",
              "    animation:\n",
              "      spin 1s steps(1) infinite;\n",
              "  }\n",
              "\n",
              "  @keyframes spin {\n",
              "    0% {\n",
              "      border-color: transparent;\n",
              "      border-bottom-color: var(--fill-color);\n",
              "      border-left-color: var(--fill-color);\n",
              "    }\n",
              "    20% {\n",
              "      border-color: transparent;\n",
              "      border-left-color: var(--fill-color);\n",
              "      border-top-color: var(--fill-color);\n",
              "    }\n",
              "    30% {\n",
              "      border-color: transparent;\n",
              "      border-left-color: var(--fill-color);\n",
              "      border-top-color: var(--fill-color);\n",
              "      border-right-color: var(--fill-color);\n",
              "    }\n",
              "    40% {\n",
              "      border-color: transparent;\n",
              "      border-right-color: var(--fill-color);\n",
              "      border-top-color: var(--fill-color);\n",
              "    }\n",
              "    60% {\n",
              "      border-color: transparent;\n",
              "      border-right-color: var(--fill-color);\n",
              "    }\n",
              "    80% {\n",
              "      border-color: transparent;\n",
              "      border-right-color: var(--fill-color);\n",
              "      border-bottom-color: var(--fill-color);\n",
              "    }\n",
              "    90% {\n",
              "      border-color: transparent;\n",
              "      border-bottom-color: var(--fill-color);\n",
              "    }\n",
              "  }\n",
              "</style>\n",
              "\n",
              "  <script>\n",
              "    async function quickchart(key) {\n",
              "      const quickchartButtonEl =\n",
              "        document.querySelector('#' + key + ' button');\n",
              "      quickchartButtonEl.disabled = true;  // To prevent multiple clicks.\n",
              "      quickchartButtonEl.classList.add('colab-df-spinner');\n",
              "      try {\n",
              "        const charts = await google.colab.kernel.invokeFunction(\n",
              "            'suggestCharts', [key], {});\n",
              "      } catch (error) {\n",
              "        console.error('Error during call to suggestCharts:', error);\n",
              "      }\n",
              "      quickchartButtonEl.classList.remove('colab-df-spinner');\n",
              "      quickchartButtonEl.classList.add('colab-df-quickchart-complete');\n",
              "    }\n",
              "    (() => {\n",
              "      let quickchartButtonEl =\n",
              "        document.querySelector('#df-671f1957-6857-4387-9210-8bb9eb34ac25 button');\n",
              "      quickchartButtonEl.style.display =\n",
              "        google.colab.kernel.accessAllowed ? 'block' : 'none';\n",
              "    })();\n",
              "  </script>\n",
              "</div>\n",
              "\n",
              "    </div>\n",
              "  </div>\n"
            ],
            "application/vnd.google.colaboratory.intrinsic+json": {
              "type": "dataframe",
              "summary": "{\n  \"name\": \"df\",\n  \"rows\": 8,\n  \"fields\": [\n    {\n      \"column\": \"vehicle_load_tons\",\n      \"properties\": {\n        \"dtype\": \"number\",\n        \"std\": 35344.69567329457,\n        \"min\": 5.000304517165589,\n        \"max\": 100000.0,\n        \"num_unique_values\": 8,\n        \"samples\": [\n          32.47185375404453,\n          32.53463801051321,\n          100000.0\n        ],\n        \"semantic_type\": \"\",\n        \"description\": \"\"\n      }\n    },\n    {\n      \"column\": \"road_type\",\n      \"properties\": {\n        \"dtype\": \"number\",\n        \"std\": 35354.99495778184,\n        \"min\": 0.0,\n        \"max\": 100000.0,\n        \"num_unique_values\": 6,\n        \"samples\": [\n          100000.0,\n          0.99854,\n          2.0\n        ],\n        \"semantic_type\": \"\",\n        \"description\": \"\"\n      }\n    },\n    {\n      \"column\": \"shock_absorber_health\",\n      \"properties\": {\n        \"dtype\": \"number\",\n        \"std\": 35335.99039902921,\n        \"min\": 20.00167123335021,\n        \"max\": 100000.0,\n        \"num_unique_values\": 8,\n        \"samples\": [\n          60.044798677476024,\n          60.109338801138264,\n          100000.0\n        ],\n        \"semantic_type\": \"\",\n        \"description\": \"\"\n      }\n    },\n    {\n      \"column\": \"suspension_travel_mm\",\n      \"properties\": {\n        \"dtype\": \"number\",\n        \"std\": 35334.653950794745,\n        \"min\": 20.22680162214187,\n        \"max\": 100000.0,\n        \"num_unique_values\": 8,\n        \"samples\": [\n          64.89442336850395,\n          64.90436687790506,\n          100000.0\n        ],\n        \"semantic_type\": \"\",\n        \"description\": \"\"\n      }\n    },\n    {\n      \"column\": \"vehicle_age_years\",\n      \"properties\": {\n        \"dtype\": \"number\",\n        \"std\": 35352.84710692708,\n        \"min\": 0.0,\n        \"max\": 100000.0,\n        \"num_unique_values\": 8,\n        \"samples\": [\n          7.5046101,\n          7.51,\n          100000.0\n        ],\n        \"semantic_type\": \"\",\n        \"description\": \"\"\n      }\n    },\n    {\n      \"column\": \"failure_occurred\",\n      \"properties\": {\n        \"dtype\": \"number\",\n        \"std\": 35355.12922251781,\n        \"min\": 0.0,\n        \"max\": 100000.0,\n        \"num_unique_values\": 5,\n        \"samples\": [\n          0.69361,\n          1.0,\n          0.46099597945388765\n        ],\n        \"semantic_type\": \"\",\n        \"description\": \"\"\n      }\n    }\n  ]\n}"
            }
          },
          "metadata": {},
          "execution_count": 28
        }
      ]
    },
    {
      "cell_type": "code",
      "source": [
        "plt.rcParams['figure.figsize'] = (20,8)"
      ],
      "metadata": {
        "id": "hrxxO_qLxDZV"
      },
      "execution_count": null,
      "outputs": []
    },
    {
      "cell_type": "code",
      "source": [
        "#Bar chrt to visualize the Number of Failure occurences\n",
        "sns.set_style(\"whitegrid\")\n",
        "sns.countplot(x=df[\"failure_occurred\"])\n",
        "plt.title(\"Failure Occurrence Count\")\n",
        "plt.show()"
      ],
      "metadata": {
        "colab": {
          "base_uri": "https://localhost:8080/",
          "height": 500
        },
        "id": "ytW7CdS1xfdl",
        "outputId": "4dc86da5-db02-4d13-ae97-2300ac450697"
      },
      "execution_count": null,
      "outputs": [
        {
          "output_type": "display_data",
          "data": {
            "text/plain": [
              "<Figure size 2000x800 with 1 Axes>"
            ],
            "image/png": "[encoded data removed]"
          },
          "metadata": {}
        }
      ]
    },
    {
      "cell_type": "code",
      "source": [
        "df[\"failure_occurred\"].value_counts()"
      ],
      "metadata": {
        "colab": {
          "base_uri": "https://localhost:8080/",
          "height": 178
        },
        "id": "4AgXWnIX1y59",
        "outputId": "f339ee09-2f07-4d42-f2ad-4df10f216ded"
      },
      "execution_count": null,
      "outputs": [
        {
          "output_type": "execute_result",
          "data": {
            "text/plain": [
              "failure_occurred\n",
              "1    69361\n",
              "0    30639\n",
              "Name: count, dtype: int64"
            ],
            "text/html": [
              "<div>\n",
              "<style scoped>\n",
              "    .dataframe tbody tr th:only-of-type {\n",
              "        vertical-align: middle;\n",
              "    }\n",
              "\n",
              "    .dataframe tbody tr th {\n",
              "        vertical-align: top;\n",
              "    }\n",
              "\n",
              "    .dataframe thead th {\n",
              "        text-align: right;\n",
              "    }\n",
              "</style>\n",
              "<table border=\"1\" class=\"dataframe\">\n",
              "  <thead>\n",
              "    <tr style=\"text-align: right;\">\n",
              "      <th></th>\n",
              "      <th>count</th>\n",
              "    </tr>\n",
              "    <tr>\n",
              "      <th>failure_occurred</th>\n",
              "      <th></th>\n",
              "    </tr>\n",
              "  </thead>\n",
              "  <tbody>\n",
              "    <tr>\n",
              "      <th>1</th>\n",
              "      <td>69361</td>\n",
              "    </tr>\n",
              "    <tr>\n",
              "      <th>0</th>\n",
              "      <td>30639</td>\n",
              "    </tr>\n",
              "  </tbody>\n",
              "</table>\n",
              "</div><br><label><b>dtype:</b> int64</label>"
            ]
          },
          "metadata": {},
          "execution_count": 31
        }
      ]
    },
    {
      "cell_type": "markdown",
      "source": [
        "From the above,out of 1 lakh observations 69302 componenst were failed due to multiple reason"
      ],
      "metadata": {
        "id": "Vx2i0_xo2WCC"
      }
    },
    {
      "cell_type": "markdown",
      "source": [
        "#**Training a Model**"
      ],
      "metadata": {
        "id": "yr0hXuaG53_V"
      }
    },
    {
      "cell_type": "code",
      "source": [
        "#Importing Necessary data\n",
        "from sklearn.model_selection import train_test_split\n",
        "from sklearn.preprocessing import StandardScaler\n",
        "from sklearn.ensemble import RandomForestClassifier\n",
        "from sklearn.metrics import accuracy_score, classification_report\n",
        "\n"
      ],
      "metadata": {
        "id": "EuhCCyZ6D1QG"
      },
      "execution_count": null,
      "outputs": []
    },
    {
      "cell_type": "markdown",
      "source": [
        "##Segregating the Target Variable from the features"
      ],
      "metadata": {
        "id": "H9745ecagX4U"
      }
    },
    {
      "cell_type": "code",
      "source": [
        "X = df.drop(columns=[\"failure_occurred\"])\n",
        "y = df[\"failure_occurred\"]\n",
        "X.shape,y.shape"
      ],
      "metadata": {
        "id": "6ZyoByhg53A5",
        "colab": {
          "base_uri": "https://localhost:8080/"
        },
        "outputId": "7265f84c-b1b9-434f-8d53-a28c2887a7ee"
      },
      "execution_count": null,
      "outputs": [
        {
          "output_type": "execute_result",
          "data": {
            "text/plain": [
              "((100000, 5), (100000,))"
            ]
          },
          "metadata": {},
          "execution_count": 33
        }
      ]
    },
    {
      "cell_type": "markdown",
      "source": [
        "##Splitting the data using Train Test method"
      ],
      "metadata": {
        "id": "LiVvEXITgsbd"
      }
    },
    {
      "cell_type": "code",
      "source": [
        "X_train, X_test, y_train, y_test = train_test_split(X, y, test_size=0.2, random_state=42)"
      ],
      "metadata": {
        "id": "5hUyuj7igjXQ"
      },
      "execution_count": null,
      "outputs": []
    },
    {
      "cell_type": "markdown",
      "source": [
        "##Model Training"
      ],
      "metadata": {
        "id": "BuzB4Hs0g6y6"
      }
    },
    {
      "cell_type": "code",
      "source": [
        "scaler = StandardScaler()\n",
        "X_train_scaled = scaler.fit_transform(X_train)\n",
        "X_test_scaled = scaler.transform(X_test)\n",
        "\n",
        "model = RandomForestClassifier(n_estimators=100, random_state=42)\n",
        "model.fit(X_train_scaled, y_train)\n",
        "\n",
        "y_pred = model.predict(X_test_scaled)\n",
        "print(\"Model Accuracy:\", accuracy_score(y_test, y_pred))\n",
        "print(classification_report(y_test, y_pred))"
      ],
      "metadata": {
        "colab": {
          "base_uri": "https://localhost:8080/"
        },
        "id": "Cs3-ERcI2Vm4",
        "outputId": "d51e76b3-3074-40d4-b5cf-0eb4cf79dbf4"
      },
      "execution_count": null,
      "outputs": [
        {
          "output_type": "stream",
          "name": "stdout",
          "text": [
            "Model Accuracy: 0.70655\n",
            "              precision    recall  f1-score   support\n",
            "\n",
            "           0       0.53      0.37      0.43      6098\n",
            "           1       0.75      0.86      0.80     13902\n",
            "\n",
            "    accuracy                           0.71     20000\n",
            "   macro avg       0.64      0.61      0.62     20000\n",
            "weighted avg       0.69      0.71      0.69     20000\n",
            "\n"
          ]
        }
      ]
    },
    {
      "cell_type": "markdown",
      "source": [
        "#Saving the Model"
      ],
      "metadata": {
        "id": "hZUQGXzEFDf2"
      }
    },
    {
      "cell_type": "code",
      "source": [
        "import pickle"
      ],
      "metadata": {
        "id": "qcBc6Sy_2SEr"
      },
      "execution_count": null,
      "outputs": []
    },
    {
      "cell_type": "code",
      "source": [
        "pickle_out = open(\"suspension_model.pkl\", mode=\"wb\")\n",
        "pickle.dump(model,pickle_out)\n",
        "pickle_out.close()"
      ],
      "metadata": {
        "id": "PRFgNe_yFNva"
      },
      "execution_count": null,
      "outputs": []
    },
    {
      "cell_type": "code",
      "source": [
        "model_pickle = open (\"suspension_model.pkl\",\"rb\")\n",
        "model = pickle.load(model_pickle)"
      ],
      "metadata": {
        "id": "Zzh9krYyG5eA"
      },
      "execution_count": null,
      "outputs": []
    },
    {
      "cell_type": "markdown",
      "source": [
        "##Test prediction for a sample data"
      ],
      "metadata": {
        "id": "wv4-yrQThxf3"
      }
    },
    {
      "cell_type": "code",
      "source": [
        "df.columns"
      ],
      "metadata": {
        "colab": {
          "base_uri": "https://localhost:8080/"
        },
        "id": "RWsLoYI2f1iX",
        "outputId": "73f5ea0f-8845-4396-8e74-2e91f4a9ea90"
      },
      "execution_count": null,
      "outputs": [
        {
          "output_type": "execute_result",
          "data": {
            "text/plain": [
              "Index(['vehicle_load_tons', 'road_type', 'shock_absorber_health',\n",
              "       'suspension_travel_mm', 'vehicle_age_years', 'failure_occurred'],\n",
              "      dtype='object')"
            ]
          },
          "metadata": {},
          "execution_count": 40
        }
      ]
    },
    {
      "cell_type": "code",
      "source": [],
      "metadata": {
        "id": "4p57yncPi9vI"
      },
      "execution_count": null,
      "outputs": []
    }
  ]
}